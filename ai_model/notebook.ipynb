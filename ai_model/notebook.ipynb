{
 "cells": [
  {
   "cell_type": "code",
   "execution_count": 1,
   "id": "ec75f720",
   "metadata": {},
   "outputs": [],
   "source": [
    "import torch\n",
    "from torch.nn import Linear, ReLU, Sequential, Softmax"
   ]
  },
  {
   "cell_type": "code",
   "execution_count": 31,
   "id": "fc274629",
   "metadata": {},
   "outputs": [
    {
     "name": "stdout",
     "output_type": "stream",
     "text": [
      "tensor([[0.6633],\n",
      "        [1.1988],\n",
      "        [1.5079],\n",
      "        [1.8171]], grad_fn=<AddmmBackward0>)\n"
     ]
    }
   ],
   "source": [
    "X = torch.tensor([[5, 2, 3], [4, 5, 6], [7, 8, 9], [10, 11, 12]], dtype=torch.float32)\n",
    "model = Sequential(\n",
    "    Linear(3, 4),\n",
    "    ReLU(),\n",
    "    Linear(4, 2),\n",
    "    ReLU(),\n",
    "    Linear(2, 1),\n",
    ")\n",
    "print(model(X))"
   ]
  },
  {
   "cell_type": "code",
   "execution_count": 38,
   "id": "f37e5fa5",
   "metadata": {},
   "outputs": [
    {
     "name": "stdout",
     "output_type": "stream",
     "text": [
      "tensor([[0.0920, 0.2258, 0.3327, 0.1334, 0.2161],\n",
      "        [0.1099, 0.1091, 0.4412, 0.1069, 0.2329],\n",
      "        [0.0674, 0.0584, 0.6323, 0.0520, 0.1899],\n",
      "        [0.0357, 0.0280, 0.7763, 0.0221, 0.1379]], grad_fn=<SoftmaxBackward0>)\n"
     ]
    }
   ],
   "source": [
    "X = torch.tensor([[5, 2, 3], [4, 5, 6], [7, 8, 9], [10, 11, 12]], dtype=torch.float32)\n",
    "model = Sequential(\n",
    "    Linear(3, 16),\n",
    "    ReLU(),\n",
    "    Linear(16, 32),\n",
    "    ReLU(),\n",
    "    Linear(32, 5),\n",
    "    Softmax(),\n",
    ")\n",
    "print(model(X))"
   ]
  },
  {
   "cell_type": "code",
   "execution_count": 39,
   "id": "5d2c21ef",
   "metadata": {},
   "outputs": [
    {
     "name": "stdout",
     "output_type": "stream",
     "text": [
      "tensor([[ 0.1170],\n",
      "        [ 0.1064],\n",
      "        [ 0.0210],\n",
      "        [-0.0669]], grad_fn=<AddmmBackward0>)\n"
     ]
    }
   ],
   "source": [
    "X = torch.tensor([[5, 2, 3], [4, 5, 6], [7, 8, 9], [10, 11, 12]], dtype=torch.float32)\n",
    "model = Sequential(\n",
    "    Linear(3, 32),\n",
    "    ReLU(),\n",
    "    Linear(32, 32),\n",
    "    ReLU(),\n",
    "    Linear(32, 1),\n",
    ")\n",
    "print(model(X))"
   ]
  },
  {
   "cell_type": "code",
   "execution_count": 40,
   "id": "7594b2e6",
   "metadata": {},
   "outputs": [
    {
     "name": "stdout",
     "output_type": "stream",
     "text": [
      "tensor([[0.1843],\n",
      "        [0.2168],\n",
      "        [0.1279],\n",
      "        [0.0714]], grad_fn=<SigmoidBackward0>)\n"
     ]
    }
   ],
   "source": [
    "X = torch.tensor([[5, 2, 3], [4, 5, 6], [7, 8, 9], [10, 11, 12]], dtype=torch.float32)\n",
    "model = Sequential(\n",
    "    Linear(3, 16),\n",
    "    ReLU(),\n",
    "    Linear(16, 1),\n",
    "    Sigmoid(),\n",
    ")\n",
    "print(model(X))"
   ]
  },
  {
   "cell_type": "code",
   "execution_count": 1,
   "id": "1708a403",
   "metadata": {},
   "outputs": [],
   "source": [
    "import torch\n",
    "from torch.nn import MSELoss, Linear, ReLU, Sequential, Softmax, Sigmoid, CrossEntropyLoss, BCELoss"
   ]
  },
  {
   "cell_type": "code",
   "execution_count": 8,
   "id": "3ffb8002",
   "metadata": {},
   "outputs": [
    {
     "name": "stdout",
     "output_type": "stream",
     "text": [
      "tensor(0.9799)\n"
     ]
    }
   ],
   "source": [
    "loss_fn = CrossEntropyLoss()\n",
    "# Example of using CrossEntropyLoss\n",
    "y = torch.tensor([0, 1, 0, 1], dtype=torch.long)  # True labels\n",
    "y_hat = torch.tensor([[0.2, 0.8], [0.6, 0.4], [0.1, 0.9], [0.7, 0.3]], dtype=torch.float32)  # Predicted probabilities\n",
    "print(loss_fn(y_hat, y))"
   ]
  },
  {
   "cell_type": "code",
   "execution_count": 22,
   "id": "d594f90d",
   "metadata": {},
   "outputs": [
    {
     "ename": "RuntimeError",
     "evalue": "The size of tensor a (9) must match the size of tensor b (3) at non-singleton dimension 0",
     "output_type": "error",
     "traceback": [
      "\u001b[31m---------------------------------------------------------------------------\u001b[39m",
      "\u001b[31mRuntimeError\u001b[39m                              Traceback (most recent call last)",
      "\u001b[36mCell\u001b[39m\u001b[36m \u001b[39m\u001b[32mIn[22]\u001b[39m\u001b[32m, line 3\u001b[39m\n\u001b[32m      1\u001b[39m y = torch.tensor([ \u001b[32m1\u001b[39m, \u001b[32m2\u001b[39m, \u001b[32m0\u001b[39m])  \u001b[38;5;66;03m# True labels\u001b[39;00m\n\u001b[32m      2\u001b[39m y_hat = torch.tensor([[\u001b[32m0.2\u001b[39m], [-\u001b[32m0.6\u001b[39m], [\u001b[32m0.1\u001b[39m], [\u001b[32m0.7\u001b[39m], [\u001b[32m0.5\u001b[39m], [\u001b[32m0.9\u001b[39m], [\u001b[32m0.6\u001b[39m], [\u001b[32m0.3\u001b[39m], [\u001b[32m0.1\u001b[39m]])  \u001b[38;5;66;03m# Predicted probabilities\u001b[39;00m\n\u001b[32m----> \u001b[39m\u001b[32m3\u001b[39m score = (\u001b[43my_hat\u001b[49m\u001b[43m.\u001b[49m\u001b[43margmax\u001b[49m\u001b[43m(\u001b[49m\u001b[32;43m1\u001b[39;49m\u001b[43m)\u001b[49m\u001b[43m \u001b[49m\u001b[43m==\u001b[49m\u001b[43m \u001b[49m\u001b[43my\u001b[49m).sum() / \u001b[38;5;28mlen\u001b[39m(y) * \u001b[32m100\u001b[39m\n\u001b[32m      4\u001b[39m \u001b[38;5;28mprint\u001b[39m(score)\n",
      "\u001b[31mRuntimeError\u001b[39m: The size of tensor a (9) must match the size of tensor b (3) at non-singleton dimension 0"
     ]
    }
   ],
   "source": [
    "y = torch.tensor([ 1, 2, 0])  # True labels\n",
    "y_hat = torch.tensor([[0.2], [-0.6], [0.1], [0.7], [0.5], [0.9], [0.6], [0.3], [0.1]])  # Predicted probabilities\n",
    "score = (y_hat.argmax(1) == y).sum() / len(y) * 100\n",
    "print(score)"
   ]
  },
  {
   "cell_type": "code",
   "execution_count": null,
   "id": "a8005c64",
   "metadata": {},
   "outputs": [],
   "source": []
  }
 ],
 "metadata": {
  "kernelspec": {
   "display_name": "pytorch",
   "language": "python",
   "name": "python3"
  },
  "language_info": {
   "codemirror_mode": {
    "name": "ipython",
    "version": 3
   },
   "file_extension": ".py",
   "mimetype": "text/x-python",
   "name": "python",
   "nbconvert_exporter": "python",
   "pygments_lexer": "ipython3",
   "version": "3.12.9"
  }
 },
 "nbformat": 4,
 "nbformat_minor": 5
}
